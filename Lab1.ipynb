{
  "nbformat": 4,
  "nbformat_minor": 0,
  "metadata": {
    "colab": {
      "name": "Lab1.ipynb",
      "provenance": [],
      "collapsed_sections": [],
      "authorship_tag": "ABX9TyPR7S7eZwJ3LcEsQN3UXTsd",
      "include_colab_link": true
    },
    "kernelspec": {
      "name": "python3",
      "display_name": "Python 3"
    }
  },
  "cells": [
    {
      "cell_type": "markdown",
      "metadata": {
        "id": "view-in-github",
        "colab_type": "text"
      },
      "source": [
        "<a href=\"https://colab.research.google.com/github/kxc5600/PracticeWithWebDesign/blob/master/Lab1.ipynb\" target=\"_parent\"><img src=\"https://colab.research.google.com/assets/colab-badge.svg\" alt=\"Open In Colab\"/></a>"
      ]
    },
    {
      "cell_type": "markdown",
      "metadata": {
        "id": "DCkn5RK3DZPr",
        "colab_type": "text"
      },
      "source": [
        "\n",
        "\n",
        "### Do you like using Jupyter Notebooks?"
      ]
    },
    {
      "cell_type": "markdown",
      "metadata": {
        "id": "4IKAr6aADdxt",
        "colab_type": "text"
      },
      "source": [
        "So far, I really like Jupyter Notebooks. It is very straightforward to use and the design of the application is very clean and simple, which made it easier to use."
      ]
    },
    {
      "cell_type": "markdown",
      "metadata": {
        "id": "ffUgIPZLEBoH",
        "colab_type": "text"
      },
      "source": [
        "### What do you want to learn more about in Jupyter Notebooks?"
      ]
    },
    {
      "cell_type": "markdown",
      "metadata": {
        "id": "VTvrRxkEEGsG",
        "colab_type": "text"
      },
      "source": [
        "I want to learn more about the functions that can be implemented. I also want to learn how I can use Jupyter Notebooks to learn web development."
      ]
    },
    {
      "cell_type": "markdown",
      "metadata": {
        "id": "IapE475kjxyd",
        "colab_type": "text"
      },
      "source": [
        "![My Dog](https://raw.githubusercontent.com/kxc5600/PracticeWithWebDesign/master/Images/C2E005CD-D23F-4F30-BA34-93D38AAC3058-3508-000001DB7DD79970.JPG)"
      ]
    }
  ]
}